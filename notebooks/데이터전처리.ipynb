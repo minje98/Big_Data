{
  "nbformat": 4,
  "nbformat_minor": 0,
  "metadata": {
    "colab": {
      "provenance": []
    },
    "kernelspec": {
      "name": "python3",
      "display_name": "Python 3"
    },
    "language_info": {
      "name": "python"
    }
  },
  "cells": [
    {
      "cell_type": "code",
      "execution_count": null,
      "metadata": {
        "colab": {
          "base_uri": "https://localhost:8080/"
        },
        "id": "DKKnnKMBlKU3",
        "outputId": "67980e6b-63ee-459d-aa8e-afdbfd7c4261"
      },
      "outputs": [
        {
          "output_type": "stream",
          "name": "stdout",
          "text": [
            "모든 파일이 처리되었고, 결과가 /content/서울외국인관광객소비.csv에 저장되었습니다.\n"
          ]
        }
      ],
      "source": [
        "import os\n",
        "import pandas as pd\n",
        "\n",
        "# 데이터 파일이 있는 디렉토리 경로\n",
        "directory_path = '/content/drive/MyDrive/외국인관광객지출/소비추이'\n",
        "\n",
        "# 변환된 데이터를 저장할 리스트\n",
        "all_data = []\n",
        "\n",
        "# 디렉토리의 모든 파일 처리\n",
        "for filename in os.listdir(directory_path):\n",
        "    if filename.endswith('.csv'):  # CSV 파일만 처리\n",
        "        file_path = os.path.join(directory_path, filename)\n",
        "\n",
        "        # 파일 읽기\n",
        "        data = pd.read_csv(file_path, encoding='euc-kr')\n",
        "\n",
        "        # 피벗 변환\n",
        "        pivoted_data = data.pivot_table(\n",
        "            index='기준년월',\n",
        "            columns=['중분류'],\n",
        "            values='소비액(천원)',\n",
        "            aggfunc='sum'\n",
        "        ).reset_index()\n",
        "\n",
        "        # 컬럼 이름 정리\n",
        "        pivoted_data.columns.name = None\n",
        "\n",
        "        # 변환된 데이터를 리스트에 추가\n",
        "        all_data.append(pivoted_data)\n",
        "\n",
        "# 모든 데이터를 하나로 합치기\n",
        "final_data = pd.concat(all_data, ignore_index=True)\n",
        "\n",
        "# 중복된 데이터 제거\n",
        "final_data = final_data.drop_duplicates(subset='기준년월')\n",
        "\n",
        "# 값이 없는 부분을 0으로 채우기\n",
        "final_data = final_data.fillna(0)\n",
        "\n",
        "# '관광총소비' 컬럼을 마지막으로 이동\n",
        "if '관광총소비' in final_data.columns:\n",
        "    columns = [col for col in final_data.columns if col != '관광총소비'] + ['관광총소비']\n",
        "    final_data = final_data[columns]\n",
        "\n",
        "# 결과를 파일로 저장\n",
        "output_path = '/content/서울외국인관광객소비.csv'  # 저장 경로 설정\n",
        "final_data.to_csv(output_path, index=False, encoding='utf-8-sig')\n",
        "\n",
        "print(f\"모든 파일이 처리되었고, 결과가 {output_path}에 저장되었습니다.\")\n"
      ]
    },
    {
      "cell_type": "code",
      "source": [
        "import pandas as pd\n",
        "\n",
        "# 파일 경로 설정\n",
        "domestic_file_path = '/content/서울관광객소비.csv'  # 내국인 파일 경로\n",
        "foreign_file_path = '/content/서울외국인관광객소비.csv'  # 외국인 파일 경로\n",
        "\n",
        "# 1. 내국인 데이터 읽기\n",
        "domestic_data = pd.read_csv(domestic_file_path, encoding='utf-8')\n",
        "domestic_data['구분'] = '내국인'  # 내국인 구분 컬럼 추가\n",
        "\n",
        "# 2. 외국인 데이터 읽기\n",
        "foreign_data = pd.read_csv(foreign_file_path, encoding='utf-8')\n",
        "foreign_data['구분'] = '외국인'  # 외국인 구분 컬럼 추가\n",
        "\n",
        "# 3. 두 데이터를 병합 (행 추가)\n",
        "combined_data = pd.concat([domestic_data, foreign_data], ignore_index=True)\n",
        "\n",
        "# 4. 데이터 정렬\n",
        "# '구분'을 기준으로 먼저 정렬하고, 같은 구분 내에서는 '기준년월'을 기준으로 정렬\n",
        "combined_data = combined_data.sort_values(by=['구분', '기준년월']).reset_index(drop=True)\n",
        "\n",
        "# 5. 컬럼 순서 변경\n",
        "# 기준년월 뒤에 '구분'을 배치하고, 관광총소비를 마지막으로 이동\n",
        "columns = ['기준년월'] + ['구분'] + [col for col in combined_data.columns if col not in ['기준년월', '구분', '관광총소비']] + ['관광총소비']\n",
        "combined_data = combined_data[columns]\n",
        "\n",
        "# 값이 없는 부분을 0으로 채우기\n",
        "combined_data = combined_data.fillna(0)\n",
        "\n",
        "# 6. 결과 저장\n",
        "output_path = '/content/서울관광객내외병합_정렬.csv'  # 저장 경로 설정\n",
        "combined_data.to_csv(output_path, index=False, encoding='utf-8-sig')\n",
        "\n",
        "print(f\"내국인과 외국인 데이터를 병합하고 날짜 기준으로 정렬한 결과가 {output_path}에 저장되었습니다.\")\n"
      ],
      "metadata": {
        "colab": {
          "base_uri": "https://localhost:8080/"
        },
        "id": "RwNPFHkMAJRW",
        "outputId": "3a9517cf-ae0d-438a-aa42-bbbad14ca535"
      },
      "execution_count": null,
      "outputs": [
        {
          "output_type": "stream",
          "name": "stdout",
          "text": [
            "내국인과 외국인 데이터를 병합하고 날짜 기준으로 정렬한 결과가 /content/서울관광객내외병합_정렬.csv에 저장되었습니다.\n"
          ]
        }
      ]
    },
    {
      "cell_type": "code",
      "source": [
        "import pandas as pd\n",
        "\n",
        "# 파일 경로 설정\n",
        "temperature_file_path = '/content/서울기온.csv'\n",
        "output_file_path = '/content/정리된_서울기온.csv'  # 저장할 파일 경로\n",
        "\n",
        "# 1~7번째 줄 제거하고 데이터 읽기\n",
        "temperature_data = pd.read_csv(temperature_file_path, encoding='euc-kr', skiprows=7)\n",
        "\n",
        "# 날짜에서 '-' 제거\n",
        "temperature_data['날짜'] = temperature_data['날짜'].str.strip().str.replace('-', '')\n",
        "\n",
        "# 필요한 열만 선택 및 열 이름 수정\n",
        "temperature_data = temperature_data[['날짜', '평균기온(℃)', '최저기온(℃)', '최고기온(℃)']]\n",
        "temperature_data.rename(columns={'날짜': '기준년월'}, inplace=True)\n",
        "\n",
        "# 변환된 데이터 저장\n",
        "temperature_data.to_csv(output_file_path, index=False, encoding='utf-8-sig')\n",
        "\n",
        "print(f\"정리된 데이터가 {output_file_path}에 저장되었습니다.\")\n"
      ],
      "metadata": {
        "colab": {
          "base_uri": "https://localhost:8080/"
        },
        "id": "3_Al_jQ5G4Ke",
        "outputId": "e184a021-e597-425a-a811-a9995bc1f903"
      },
      "execution_count": null,
      "outputs": [
        {
          "output_type": "stream",
          "name": "stdout",
          "text": [
            "정리된 데이터가 /content/정리된_서울기온.csv에 저장되었습니다.\n"
          ]
        }
      ]
    },
    {
      "cell_type": "code",
      "source": [
        "# 경로 설정\n",
        "merged_file_path = '/content/서울관광객내외병합_정렬.csv'\n",
        "temperature_data_path = '/content/정리된_서울기온.csv'\n",
        "output_file_path = '/content/병합된_서울관광객_기온.csv'\n",
        "\n",
        "# 파일 읽기\n",
        "merged_data = pd.read_csv(merged_file_path, encoding='utf-8-sig')\n",
        "temperature_data = pd.read_csv(temperature_data_path, encoding='utf-8-sig')\n",
        "\n",
        "# '기준년월'을 기준으로 병합\n",
        "merged_combined_data = pd.merge(\n",
        "    merged_data, temperature_data, on='기준년월', how='left'\n",
        ")\n",
        "\n",
        "# 병합된 데이터 저장\n",
        "merged_combined_data.to_csv(output_file_path, index=False, encoding='utf-8-sig')\n",
        "print(f\"병합된 데이터가 {output_file_path}에 저장되었습니다.\")\n"
      ],
      "metadata": {
        "colab": {
          "base_uri": "https://localhost:8080/"
        },
        "id": "7wi3xA7tJH1x",
        "outputId": "54fd5953-1d99-4e84-d293-bc69d424c7ad"
      },
      "execution_count": null,
      "outputs": [
        {
          "output_type": "stream",
          "name": "stdout",
          "text": [
            "병합된 데이터가 /content/병합된_서울관광객_기온.csv에 저장되었습니다.\n"
          ]
        }
      ]
    },
    {
      "cell_type": "code",
      "source": [
        "import pandas as pd\n",
        "import os\n",
        "\n",
        "# 디렉토리 경로 및 결과 저장 경로 설정\n",
        "input_dir = '/content/drive/MyDrive/방문자수추이'  # 처리할 파일이 있는 디렉토리 경로\n",
        "output_file = '/content/합쳐진_방문자수.csv'  # 결과 파일 경로\n",
        "\n",
        "# 결과를 담을 리스트\n",
        "processed_data = []\n",
        "\n",
        "# 디렉토리 내 모든 CSV 파일 처리\n",
        "for file_name in os.listdir(input_dir):\n",
        "    if file_name.endswith('.csv'):  # CSV 파일만 처리\n",
        "        file_path = os.path.join(input_dir, file_name)\n",
        "        try:\n",
        "            # 파일 읽기 (인코딩 변경)\n",
        "            data = pd.read_csv(file_path, encoding='euc-kr')\n",
        "        except UnicodeDecodeError:\n",
        "            data = pd.read_csv(file_path, encoding='cp949')\n",
        "\n",
        "        # '광역지자체' 컬럼 제거\n",
        "        if '광역지자체' in data.columns:\n",
        "            data = data.drop(columns=['광역지자체'])\n",
        "\n",
        "        # '내국인'과 '외국인' 컬럼 생성\n",
        "        data['내국인'] = data.apply(\n",
        "            lambda row: row['방문자 수'] if '현지인' in row['방문자 구분'] or '외지인' in row['방문자 구분'] else 0,\n",
        "            axis=1\n",
        "        )\n",
        "        data['외국인'] = data.apply(\n",
        "            lambda row: row['방문자 수'] if '외국인' in row['방문자 구분'] else 0,\n",
        "            axis=1\n",
        "        )\n",
        "\n",
        "        # 기준년월로 그룹화하여 합계 계산\n",
        "        grouped_data = data.groupby('기준년월').agg(\n",
        "            내국인=('내국인', 'sum'),\n",
        "            외국인=('외국인', 'sum')\n",
        "        ).reset_index()\n",
        "\n",
        "        # 총 방문자수 추가\n",
        "        grouped_data['방문자수'] = grouped_data['내국인'] + grouped_data['외국인']\n",
        "\n",
        "        # 처리된 데이터를 리스트에 추가\n",
        "        processed_data.append(grouped_data)\n",
        "\n",
        "# 모든 파일의 데이터를 하나로 합치기\n",
        "final_data = pd.concat(processed_data, ignore_index=True)\n",
        "\n",
        "# 중복된 데이터 제거\n",
        "final_data = final_data.drop_duplicates(subset='기준년월')\n",
        "\n",
        "# 값이 없는 부분을 0으로 채우기\n",
        "final_data = final_data.fillna(0)\n",
        "\n",
        "# 결과 저장\n",
        "final_data.to_csv(output_file, index=False, encoding='utf-8-sig')\n",
        "print(f\"모든 파일이 처리되고 결과가 {output_file}에 저장되었습니다.\")\n"
      ],
      "metadata": {
        "colab": {
          "base_uri": "https://localhost:8080/"
        },
        "id": "oxViTYpiw-nx",
        "outputId": "50e06f75-f29c-4fee-ac1c-c994fc6235d6"
      },
      "execution_count": null,
      "outputs": [
        {
          "output_type": "stream",
          "name": "stdout",
          "text": [
            "모든 파일이 처리되고 결과가 /content/합쳐진_방문자수.csv에 저장되었습니다.\n"
          ]
        }
      ]
    },
    {
      "cell_type": "code",
      "source": [
        "import pandas as pd\n",
        "\n",
        "# 파일 경로 설정\n",
        "file1 = '/content/합쳐진_방문자수.csv'  # 첫 번째 파일 경로\n",
        "file2 = '/content/병합된_서울관광객_기온.csv'  # 두 번째 파일 경로\n",
        "\n",
        "# 첫 번째 파일 로드 (방문자수 데이터) - 인코딩 설정\n",
        "data1 = pd.read_csv(file1, encoding='utf-8')  # utf-8이 안되면 euc-kr로 시도\n",
        "\n",
        "# 두 번째 파일 로드 (관광객 데이터) - 인코딩 설정\n",
        "data2 = pd.read_csv(file2, encoding='utf-8')  # utf-8이 안되면 euc-kr로 시도\n",
        "\n",
        "# 기준년월을 기준으로 데이터 병합\n",
        "merged_data = data2.merge(data1[['기준년월', '내국인', '외국인']], on='기준년월', how='left')\n",
        "\n",
        "# '구분'에 따라 방문자수 계산하여 새 열 추가\n",
        "merged_data['방문자수'] = merged_data.apply(\n",
        "    lambda row: row['내국인'] if row['구분'] == '내국인' else row['외국인'], axis=1\n",
        ")\n",
        "\n",
        "# 불필요한 열 삭제 (내국인, 외국인)\n",
        "merged_data.drop(['내국인', '외국인'], axis=1, inplace=True)\n",
        "\n",
        "# 병합된 데이터 확인\n",
        "print(merged_data.head())\n",
        "\n",
        "# 결과 파일 저장 (한글 인코딩 유지)\n",
        "output_file = '/content/최종_병합된_데이터.csv'\n",
        "merged_data.to_csv(output_file, index=False, encoding='utf-8-sig')\n",
        "print(f\"결과가 저장되었습니다: {output_file}\")\n"
      ],
      "metadata": {
        "colab": {
          "base_uri": "https://localhost:8080/"
        },
        "id": "WJs0SvpU3ghb",
        "outputId": "5e583668-11b3-433e-86e8-2b3f507835bd"
      },
      "execution_count": null,
      "outputs": [
        {
          "output_type": "stream",
          "name": "stdout",
          "text": [
            "       기준년월   구분       골프장    관광기념품    관광유원시설      기타레저      기타숙박      대형쇼핑몰  \\\n",
            "0  20180101  내국인  120701.0  26043.0  111061.0  355665.0  566771.0  6056574.0   \n",
            "1  20180102  내국인  141696.0  28959.0  123890.0  639208.0  274243.0  6597272.0   \n",
            "2  20180103  내국인  117063.0  44451.0  112622.0  546619.0  322489.0  6032241.0   \n",
            "3  20180104  내국인  113794.0  50071.0   94998.0  435600.0  322619.0  5899588.0   \n",
            "4  20180105  내국인  111477.0  31588.0   93509.0  432891.0  381762.0  7383704.0   \n",
            "\n",
            "      레저용품쇼핑      렌터카  ...  캠핑장/펜션       콘도       항공운송        호텔  카지노  \\\n",
            "0  1134272.0  19695.0  ...   370.0  14031.0   550708.0  888759.0  0.0   \n",
            "1  1100400.0  60618.0  ...     0.0   3648.0  1485335.0  550999.0  0.0   \n",
            "2  1073413.0  38854.0  ...     0.0  30216.0  1642292.0  471557.0  0.0   \n",
            "3  1049749.0  37543.0  ...     0.0  12677.0  1701707.0  587422.0  0.0   \n",
            "4  1177246.0  60086.0  ...    50.0  11214.0  2116769.0  687969.0  0.0   \n",
            "\n",
            "        관광총소비  평균기온(℃)  최저기온(℃)  최고기온(℃)       방문자수  \n",
            "0  28498192.0     -1.3     -5.1      3.8  4840114.0  \n",
            "1  29385078.0     -1.8     -4.3      1.8  5541284.0  \n",
            "2  30339145.0     -4.7     -7.1     -0.4  5623831.0  \n",
            "3  30953900.0     -4.7     -8.7     -0.7  5714965.0  \n",
            "4  36717853.0     -3.0     -5.6      1.6  5905690.0  \n",
            "\n",
            "[5 rows x 27 columns]\n",
            "결과가 저장되었습니다: /content/최종_병합된_데이터.csv\n"
          ]
        }
      ]
    }
  ]
}